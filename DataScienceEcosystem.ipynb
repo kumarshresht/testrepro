{
  "metadata": {
    "kernelspec": {
      "name": "python",
      "display_name": "Python (Pyodide)",
      "language": "python"
    },
    "language_info": {
      "codemirror_mode": {
        "name": "python",
        "version": 3
      },
      "file_extension": ".py",
      "mimetype": "text/x-python",
      "name": "python",
      "nbconvert_exporter": "python",
      "pygments_lexer": "ipython3",
      "version": "3.8"
    }
  },
  "nbformat_minor": 5,
  "nbformat": 4,
  "cells": [
    {
      "id": "783c54d2-14f1-479b-817b-165e426e759c",
      "cell_type": "markdown",
      "source": "# Data Science Tools and Ecosystem",
      "metadata": {}
    },
    {
      "id": "771bea7c-0abe-40a2-80ee-067c7ba8c331",
      "cell_type": "markdown",
      "source": "In this notebook, Data Science Tools and Ecosystem are summarized.",
      "metadata": {}
    },
    {
      "id": "a63862eb-b99f-4b81-aa7e-e3d9ccc867fe",
      "cell_type": "markdown",
      "source": "Some of the popular languages that Data Scientists use are:\n1. Python\n2. R\n3. SQL\n4. Julia\n5. Java",
      "metadata": {}
    },
    {
      "id": "b1c9540d-320d-4a9e-9f16-2ebdd659c2d0",
      "cell_type": "markdown",
      "source": "Some of the commonly used libraries used by Data Scientists include:\n1. NumPy\n2. Pandas\n3. Matplotlib\n4. Scikit-learn\n5. TensorFlow\n6. PyTorch",
      "metadata": {}
    },
    {
      "id": "65e3970b-de68-4945-b1c3-3dd3f259bb52",
      "cell_type": "markdown",
      "source": "Data Science Tools\n1. Jupyter\n2. R-studio\n3. Hadoop",
      "metadata": {}
    },
    {
      "id": "c2d5ce00-6fc7-4eb4-8bad-74e97b16620b",
      "cell_type": "markdown",
      "source": "### Below are a few examples of evaluating arithmetic expressions in Python",
      "metadata": {}
    },
    {
      "id": "96ab35d0-29c9-4ca3-ab34-ef0435d75515",
      "cell_type": "code",
      "source": "# this a simple arithmetic expression to mutiply then add integers\n(3 * 4) + 5",
      "metadata": {
        "trusted": true
      },
      "outputs": [
        {
          "execution_count": 2,
          "output_type": "execute_result",
          "data": {
            "text/plain": "17"
          },
          "metadata": {}
        }
      ],
      "execution_count": 2
    },
    {
      "id": "72cadfd8-c00e-4357-9d8f-61ecf919dada",
      "cell_type": "code",
      "source": "# This will convert 200 minutes to hours by diving by 60\n200/60",
      "metadata": {
        "trusted": true
      },
      "outputs": [
        {
          "execution_count": 3,
          "output_type": "execute_result",
          "data": {
            "text/plain": "3.3333333333333335"
          },
          "metadata": {}
        }
      ],
      "execution_count": 3
    },
    {
      "id": "7f0d42f3-bd9e-4e40-96aa-4cdc074ea44e",
      "cell_type": "markdown",
      "source": "**Objectives:**\nList popular languages for Data Science\n* JAVA\n* PYTHON\n* R\n* JULIA\n",
      "metadata": {}
    },
    {
      "id": "59c2b1f9-7fbd-4c5c-8f44-72b43df04335",
      "cell_type": "markdown",
      "source": "## Author:\nKumar Shreshtha",
      "metadata": {}
    }
  ]
}